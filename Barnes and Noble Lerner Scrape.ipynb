{
 "cells": [
  {
   "cell_type": "code",
   "execution_count": 100,
   "metadata": {},
   "outputs": [],
   "source": [
    "# Dependencies\n",
    "from bs4 import BeautifulSoup\n",
    "import requests\n",
    "import pymongo\n",
    "from pprint import pprint\n",
    "import pandas as pd"
   ]
  },
  {
   "cell_type": "code",
   "execution_count": 101,
   "metadata": {},
   "outputs": [],
   "source": [
    "# Initialize PyMongo to work with MongoDBs\n",
    "conn = 'mongodb://localhost:27017'\n",
    "client = pymongo.MongoClient(conn)"
   ]
  },
  {
   "cell_type": "code",
   "execution_count": 102,
   "metadata": {},
   "outputs": [],
   "source": [
    "# Define database and collection\n",
    "db = client.bn_db\n",
    "collection = db.metadata"
   ]
  },
  {
   "cell_type": "code",
   "execution_count": 103,
   "metadata": {},
   "outputs": [],
   "source": [
    "url = 'http://search.barnesandnoble.com/bookSearch/isbnInquiry.asp?isbn=9780761352556#/'\n",
    "\n",
    "response = requests.get(url, headers={'User-agent': 'Mozilla/5.0 (Windows NT 6.2; WOW64) AppleWebKit/537.36 (KHTML, like Gecko) Chrome/37.0.2062.120 Safari/537.36'})\n",
    "\n",
    "\n",
    "soup = BeautifulSoup(response.content)\n",
    "\n",
    "# results are returned as an iterable list\n",
    "\n",
    "\n",
    "current_price = soup.find_all('span', class_='price current-price ml-0')\n",
    "list_price = soup.find_all('s', class_='old-price')\n",
    "product_dets = soup.find_all('table')\n",
    "\n",
    "\n",
    "\n",
    "\n",
    "bn_price = current_price[0].text\n",
    "list_price = list_price[0].text\n",
    "\n",
    "\n",
    "\n"
   ]
  },
  {
   "cell_type": "code",
   "execution_count": 116,
   "metadata": {},
   "outputs": [],
   "source": [
    "df = pd.read_html(str(product_dets))\n",
    "price = df"
   ]
  },
  {
   "cell_type": "code",
   "execution_count": 104,
   "metadata": {},
   "outputs": [
    {
     "name": "stdout",
     "output_type": "stream",
     "text": [
      "{'BandN_Price': '$17.87', 'LPG_list_price': '$17.99', 'Product_details': [                      0                             1\n",
      "0              ISBN-13:                 9780761352556\n",
      "1            Publisher:       Lerner Publishing Group\n",
      "2     Publication date:                    08/01/2010\n",
      "3               Series:        Carolrhoda Picture Bks\n",
      "4  Edition description:               Library Edition\n",
      "5                Pages:                            32\n",
      "6           Sales rank:                         43500\n",
      "7   Product dimensions:  9.20(w) x 11.10(h) x 0.40(d)\n",
      "8               Lexile:           700L (what's this?)\n",
      "9            Age Range:                  8 - 12 Years]}\n"
     ]
    }
   ],
   "source": [
    "    # Dictionary to be inserted into MongoDB\n",
    "    post = {\n",
    "        'BandN_Price': bn_price,\n",
    "        'LPG_list_price': list_price,\n",
    "        'Product_details': df,\n",
    "    }\n",
    "\n",
    "print(post)"
   ]
  },
  {
   "cell_type": "code",
   "execution_count": null,
   "metadata": {},
   "outputs": [],
   "source": [
    "# Display the MongoDB records created above\n",
    "details = db.metadata.find()\n",
    "for detail in details:\n",
    "    print(detail)"
   ]
  },
  {
   "cell_type": "code",
   "execution_count": null,
   "metadata": {},
   "outputs": [],
   "source": []
  },
  {
   "cell_type": "code",
   "execution_count": null,
   "metadata": {},
   "outputs": [],
   "source": []
  },
  {
   "cell_type": "code",
   "execution_count": null,
   "metadata": {},
   "outputs": [],
   "source": []
  }
 ],
 "metadata": {
  "kernelspec": {
   "display_name": "'Python Interactive'",
   "language": "python",
   "name": "d83a8af1-695c-48be-bcdc-fdac87eb10ba"
  },
  "language_info": {
   "codemirror_mode": {
    "name": "ipython",
    "version": 3
   },
   "file_extension": ".py",
   "mimetype": "text/x-python",
   "name": "python",
   "nbconvert_exporter": "python",
   "pygments_lexer": "ipython3",
   "version": "3.7.2"
  }
 },
 "nbformat": 4,
 "nbformat_minor": 2
}
