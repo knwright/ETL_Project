{
 "cells": [
  {
   "cell_type": "code",
   "execution_count": 3,
   "metadata": {},
   "outputs": [],
   "source": [
    "# Dependencies\n",
    "import requests\n",
    "from bs4 import BeautifulSoup as bs\n",
    "import urllib3\n"
   ]
  },
  {
   "cell_type": "code",
   "execution_count": null,
   "metadata": {},
   "outputs": [],
   "source": [
    "# Building the URL\n",
    "\n",
    "_race = '2013/'\n",
    "_MES = '01/'\n",
    "_MATERIAS = 'matematica/'\n",
    "_CONTEXT = 'wp-content/uploads/' + _ANO + _MES\n",
    "_URL = 'http://www.desconversa.com.br/' + _MATERIAS + _CONTEXT"
   ]
  },
  {
   "cell_type": "code",
   "execution_count": null,
   "metadata": {},
   "outputs": [],
   "source": [
    "# functional\n",
    "r = requests.get(_URL)\n",
    "soup = bs(r.text)\n",
    "urls = []\n",
    "names = []\n",
    "for i, link in enumerate(soup.findAll('a')):\n",
    "    _FULLURL = _URL + link.get('href')\n",
    "    if _FULLURL.endswith('.pdf'):\n",
    "        urls.append(_FULLURL)\n",
    "        names.append(soup.select('a')[i].attrs['href'])\n",
    "\n",
    "names_urls = zip(names, urls)\n",
    "\n",
    "for name, url in names_urls:\n",
    "    print url\n",
    "    rq = urllib2.Request(url)\n",
    "    res = urllib2.urlopen(rq)\n",
    "    pdf = open(\"pdfs/\" + name, 'wb')\n",
    "    pdf.write(res.read())\n",
    "    pdf.close()"
   ]
  },
  {
   "cell_type": "code",
   "execution_count": null,
   "metadata": {},
   "outputs": [],
   "source": []
  },
  {
   "cell_type": "code",
   "execution_count": null,
   "metadata": {},
   "outputs": [],
   "source": []
  },
  {
   "cell_type": "code",
   "execution_count": null,
   "metadata": {},
   "outputs": [],
   "source": []
  },
  {
   "cell_type": "code",
   "execution_count": null,
   "metadata": {},
   "outputs": [],
   "source": []
  }
 ],
 "metadata": {
  "kernelspec": {
   "display_name": "Python 3",
   "language": "python",
   "name": "python3"
  },
  "language_info": {
   "codemirror_mode": {
    "name": "ipython",
    "version": 3
   },
   "file_extension": ".py",
   "mimetype": "text/x-python",
   "name": "python",
   "nbconvert_exporter": "python",
   "pygments_lexer": "ipython3",
   "version": "3.7.1"
  }
 },
 "nbformat": 4,
 "nbformat_minor": 2
}
