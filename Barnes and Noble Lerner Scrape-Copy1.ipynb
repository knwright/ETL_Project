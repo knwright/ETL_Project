{
 "cells": [
  {
   "cell_type": "code",
   "execution_count": 1,
   "metadata": {},
   "outputs": [],
   "source": [
    "# Dependencies\n",
    "from bs4 import BeautifulSoup\n",
    "import requests\n",
    "import pymongo\n",
    "from pprint import pprint\n",
    "import pandas as pd"
   ]
  },
  {
   "cell_type": "code",
   "execution_count": 2,
   "metadata": {},
   "outputs": [],
   "source": [
    "# Initialize PyMongo to work with MongoDBs\n",
    "conn = 'mongodb://localhost:27017'\n",
    "client = pymongo.MongoClient(conn)"
   ]
  },
  {
   "cell_type": "code",
   "execution_count": 3,
   "metadata": {},
   "outputs": [],
   "source": [
    "# Define database and collection\n",
    "db = client.bn_db\n",
    "collection = db.metadata"
   ]
  },
  {
   "cell_type": "code",
   "execution_count": 127,
   "metadata": {},
   "outputs": [],
   "source": [
    "url = 'http://search.barnesandnoble.com/bookSearch/isbnInquiry.asp?isbn=9780761352556#/'\n",
    "\n",
    "response = requests.get(url, headers={'User-agent': 'Mozilla/5.0 (Windows NT 6.2; WOW64) AppleWebKit/537.36 (KHTML, like Gecko) Chrome/37.0.2062.120 Safari/537.36'})\n",
    "\n",
    "\n",
    "soup = BeautifulSoup(response.content,'lxml')\n",
    "\n",
    "# results are returned as an iterable list\n",
    "\n",
    "current_price = soup.find_all('span', class_='price current-price ml-0')[0].text\n",
    "list_price = soup.find_all('s', class_='old-price')[0].text\n",
    "\n",
    "rating_value = soup.find_all(\"span\", itemprop=\"ratingValue\")[0].text\n",
    "review_count = soup.find_all(\"span\", itemprop=\"reviewCount\")[0].text\n",
    "high_value = soup.find_all(\"span\", itemprop=\"bestRating\")[0].text\n",
    "low_value = soup.find_all(\"span\", itemprop=\"worstRating\")[0].text\n",
    "table_rows = soup.find_all('table', class_=\"plain centered\")[0].text"
   ]
  },
  {
   "cell_type": "code",
   "execution_count": 128,
   "metadata": {
    "scrolled": false
   },
   "outputs": [],
   "source": [
    "df = pd.read_html(str(table))[0]\n",
    "df1 = pd.DataFrame(df)\n",
    "df1 = df1.set_index(0)\n",
    "df_dict = df1.to_dict()"
   ]
  },
  {
   "cell_type": "code",
   "execution_count": 133,
   "metadata": {},
   "outputs": [
    {
     "name": "stdout",
     "output_type": "stream",
     "text": [
      "{'Average_Rating': '4.2',\n",
      " 'Highest_Rating': '5',\n",
      " 'List_price': '$17.99',\n",
      " 'Lowest_Rating': '1',\n",
      " 'Product_details': {1: {'Age Range:': '8 - 12 Years',\n",
      "                         'Edition description:': 'Library Edition',\n",
      "                         'ISBN-13:': '9780761352556',\n",
      "                         'Lexile:': \"700L (what's this?)\",\n",
      "                         'Pages:': '32',\n",
      "                         'Product dimensions:': '9.20(w) x 11.10(h) x 0.40(d)',\n",
      "                         'Publication date:': '08/01/2010',\n",
      "                         'Publisher:': 'Lerner Publishing Group',\n",
      "                         'Sales rank:': '46492',\n",
      "                         'Series:': 'Carolrhoda Picture Bks'}},\n",
      " 'Review_Count': '5',\n",
      " 'Sale_Price': '$17.87'}\n"
     ]
    }
   ],
   "source": [
    "    # Dictionary to be inserted into MongoDB\n",
    "    mongo_dict = {\n",
    "        'Sale_Price': current_price,\n",
    "        'List_price': list_price,\n",
    "        'Average_Rating' : rating_value,\n",
    "        'Review_Count' : review_count,\n",
    "        'Highest_Rating' : high_value,\n",
    "        'Lowest_Rating' : low_value,\n",
    "        'Product_details': df_dict,\n",
    "    }\n",
    "\n",
    "pprint(mongo_dict)"
   ]
  },
  {
   "cell_type": "code",
   "execution_count": 130,
   "metadata": {},
   "outputs": [],
   "source": [
    "# Display the MongoDB records created above\n",
    "details = db.metadata.find()\n",
    "for detail in details:\n",
    "    print(detail)"
   ]
  },
  {
   "cell_type": "code",
   "execution_count": null,
   "metadata": {},
   "outputs": [],
   "source": []
  },
  {
   "cell_type": "code",
   "execution_count": null,
   "metadata": {},
   "outputs": [],
   "source": []
  },
  {
   "cell_type": "code",
   "execution_count": null,
   "metadata": {},
   "outputs": [],
   "source": []
  }
 ],
 "metadata": {
  "kernelspec": {
   "display_name": "'Python Interactive'",
   "language": "python",
   "name": "d83a8af1-695c-48be-bcdc-fdac87eb10ba"
  },
  "language_info": {
   "codemirror_mode": {
    "name": "ipython",
    "version": 3
   },
   "file_extension": ".py",
   "mimetype": "text/x-python",
   "name": "python",
   "nbconvert_exporter": "python",
   "pygments_lexer": "ipython3",
   "version": "3.7.2"
  }
 },
 "nbformat": 4,
 "nbformat_minor": 2
}
